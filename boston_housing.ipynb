{
 "cells": [
  {
   "cell_type": "code",
   "execution_count": 1,
   "id": "c4e5e9ec-40cc-45b4-8686-1df8cb50fc3d",
   "metadata": {
    "tags": []
   },
   "outputs": [],
   "source": [
    "from tensorflow.keras.layers import *\n",
    "import tensorflow as tf\n",
    "\n",
    "from sklearn.preprocessing import StandardScaler\n",
    "\n",
    "import matplotlib.pyplot as plt\n",
    "\n",
    "tf.random.set_seed(0)"
   ]
  },
  {
   "cell_type": "code",
   "execution_count": 2,
   "id": "394fc7b1-8c90-4509-b94a-52edb356dc09",
   "metadata": {
    "tags": []
   },
   "outputs": [
    {
     "data": {
      "text/plain": [
       "((404, 13), (404,), (102, 13), (102,))"
      ]
     },
     "execution_count": 2,
     "metadata": {},
     "output_type": "execute_result"
    }
   ],
   "source": [
    "# load data\n",
    "\n",
    "(x_train, y_train), (x_test, y_test) = tf.keras.datasets.boston_housing.load_data(test_split=0.2, seed=0)\n",
    "x_train.shape, y_train.shape, x_test.shape, y_test.shape"
   ]
  },
  {
   "cell_type": "code",
   "execution_count": 3,
   "id": "9ac9dfba-feed-4b7a-85e5-cef749a63c04",
   "metadata": {
    "tags": []
   },
   "outputs": [],
   "source": [
    "# data processing\n",
    "\n",
    "scaler = StandardScaler()\n",
    "x_train = scaler.fit_transform(x_train)\n",
    "x_test = scaler.transform(x_test)"
   ]
  },
  {
   "cell_type": "code",
   "execution_count": 4,
   "id": "3efb8d6c-c81c-486f-a6d5-007e75825735",
   "metadata": {
    "tags": []
   },
   "outputs": [],
   "source": [
    "# build model\n",
    "\n",
    "model = tf.keras.Sequential([\n",
    "    Dense(128, activation='relu', input_shape=(x_train.shape[1],)),\n",
    "    Dense(64, activation='relu'),\n",
    "    Dense(1, activation='linear')\n",
    "])"
   ]
  },
  {
   "cell_type": "code",
   "execution_count": 5,
   "id": "51e34b3f-44b4-4c50-9600-f0d19e7b7786",
   "metadata": {
    "tags": []
   },
   "outputs": [
    {
     "name": "stdout",
     "output_type": "stream",
     "text": [
      "Model: \"sequential\"\n",
      "_________________________________________________________________\n",
      " Layer (type)                Output Shape              Param #   \n",
      "=================================================================\n",
      " dense (Dense)               (None, 128)               1792      \n",
      "                                                                 \n",
      " dense_1 (Dense)             (None, 64)                8256      \n",
      "                                                                 \n",
      " dense_2 (Dense)             (None, 1)                 65        \n",
      "                                                                 \n",
      "=================================================================\n",
      "Total params: 10,113\n",
      "Trainable params: 10,113\n",
      "Non-trainable params: 0\n",
      "_________________________________________________________________\n"
     ]
    }
   ],
   "source": [
    "model.summary()"
   ]
  },
  {
   "cell_type": "code",
   "execution_count": 6,
   "id": "5d9c7399-0ea4-47d9-84e9-9a4d8ff7b559",
   "metadata": {
    "tags": []
   },
   "outputs": [
    {
     "name": "stdout",
     "output_type": "stream",
     "text": [
      "Epoch 1/10\n",
      "46/46 [==============================] - 3s 20ms/step - loss: 478.3293 - val_loss: 382.5481\n",
      "Epoch 2/10\n",
      "46/46 [==============================] - 1s 21ms/step - loss: 149.2789 - val_loss: 68.7558\n",
      "Epoch 3/10\n",
      "46/46 [==============================] - 1s 18ms/step - loss: 33.3523 - val_loss: 52.0816\n",
      "Epoch 4/10\n",
      "46/46 [==============================] - 1s 12ms/step - loss: 21.7033 - val_loss: 41.1484\n",
      "Epoch 5/10\n",
      "46/46 [==============================] - 1s 12ms/step - loss: 18.7219 - val_loss: 37.0464\n",
      "Epoch 6/10\n",
      "46/46 [==============================] - 1s 13ms/step - loss: 16.7951 - val_loss: 34.7771\n",
      "Epoch 7/10\n",
      "46/46 [==============================] - 1s 13ms/step - loss: 15.6433 - val_loss: 31.6120\n",
      "Epoch 8/10\n",
      "46/46 [==============================] - 1s 13ms/step - loss: 14.7591 - val_loss: 30.7920\n",
      "Epoch 9/10\n",
      "46/46 [==============================] - 1s 13ms/step - loss: 13.9008 - val_loss: 29.4065\n",
      "Epoch 10/10\n",
      "46/46 [==============================] - 1s 13ms/step - loss: 13.7255 - val_loss: 27.2389\n"
     ]
    }
   ],
   "source": [
    "# compile and train\n",
    "\n",
    "model.compile(optimizer='adam', loss='mean_squared_error')\n",
    "history = model.fit(x_train, y_train, epochs=10, batch_size=8, validation_split=0.1)"
   ]
  },
  {
   "cell_type": "code",
   "execution_count": 7,
   "id": "951358e2-73c5-4b12-ae7b-4ffba15358bf",
   "metadata": {
    "tags": []
   },
   "outputs": [
    {
     "name": "stdout",
     "output_type": "stream",
     "text": [
      "4/4 [==============================] - 0s 8ms/step - loss: 11.2107\n"
     ]
    },
    {
     "data": {
      "text/plain": [
       "11.210712432861328"
      ]
     },
     "execution_count": 7,
     "metadata": {},
     "output_type": "execute_result"
    }
   ],
   "source": [
    "model.evaluate(x_test, y_test)"
   ]
  },
  {
   "cell_type": "code",
   "execution_count": 8,
   "id": "5e68a78e-d359-47cd-8ada-e622e3dc398c",
   "metadata": {
    "tags": []
   },
   "outputs": [],
   "source": [
    "model.save('models/boston_housing.h5')"
   ]
  },
  {
   "cell_type": "code",
   "execution_count": null,
   "id": "26a4a6a0-c70d-4f17-bd65-603936b630d9",
   "metadata": {},
   "outputs": [],
   "source": []
  }
 ],
 "metadata": {
  "kernelspec": {
   "display_name": "Python 3 (ipykernel)",
   "language": "python",
   "name": "python3"
  },
  "language_info": {
   "codemirror_mode": {
    "name": "ipython",
    "version": 3
   },
   "file_extension": ".py",
   "mimetype": "text/x-python",
   "name": "python",
   "nbconvert_exporter": "python",
   "pygments_lexer": "ipython3",
   "version": "3.10.9"
  }
 },
 "nbformat": 4,
 "nbformat_minor": 5
}
